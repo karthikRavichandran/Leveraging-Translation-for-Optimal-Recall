{
 "cells": [
  {
   "cell_type": "code",
   "execution_count": 1,
   "id": "b38f9e71-8f42-43c3-93bb-2a6e357af74a",
   "metadata": {},
   "outputs": [
    {
     "name": "stdout",
     "output_type": "stream",
     "text": [
      "Collecting rouge-score\n",
      "  Downloading rouge_score-0.1.2.tar.gz (17 kB)\n",
      "  Preparing metadata (setup.py) ... \u001b[?25ldone\n",
      "\u001b[?25hCollecting absl-py (from rouge-score)\n",
      "  Downloading absl_py-2.0.0-py3-none-any.whl.metadata (2.3 kB)\n",
      "Collecting nltk (from rouge-score)\n",
      "  Downloading nltk-3.8.1-py3-none-any.whl (1.5 MB)\n",
      "\u001b[2K     \u001b[90m━━━━━━━━━━━━━━━━━━━━━━━━━━━━━━━━━━━━━━━━\u001b[0m \u001b[32m1.5/1.5 MB\u001b[0m \u001b[31m4.6 MB/s\u001b[0m eta \u001b[36m0:00:00\u001b[0ma \u001b[36m0:00:01\u001b[0m\n",
      "\u001b[?25hRequirement already satisfied: numpy in /Users/karthikravi/anaconda3/envs/ir_project/lib/python3.11/site-packages (from rouge-score) (1.26.2)\n",
      "Requirement already satisfied: six>=1.14.0 in /Users/karthikravi/anaconda3/envs/ir_project/lib/python3.11/site-packages (from rouge-score) (1.16.0)\n",
      "Requirement already satisfied: click in /Users/karthikravi/anaconda3/envs/ir_project/lib/python3.11/site-packages (from nltk->rouge-score) (8.1.7)\n",
      "Collecting joblib (from nltk->rouge-score)\n",
      "  Downloading joblib-1.3.2-py3-none-any.whl.metadata (5.4 kB)\n",
      "Requirement already satisfied: regex>=2021.8.3 in /Users/karthikravi/anaconda3/envs/ir_project/lib/python3.11/site-packages (from nltk->rouge-score) (2023.10.3)\n",
      "Requirement already satisfied: tqdm in /Users/karthikravi/anaconda3/envs/ir_project/lib/python3.11/site-packages (from nltk->rouge-score) (4.66.1)\n",
      "Downloading absl_py-2.0.0-py3-none-any.whl (130 kB)\n",
      "\u001b[2K   \u001b[90m━━━━━━━━━━━━━━━━━━━━━━━━━━━━━━━━━━━━━━━━\u001b[0m \u001b[32m130.2/130.2 kB\u001b[0m \u001b[31m6.6 MB/s\u001b[0m eta \u001b[36m0:00:00\u001b[0m\n",
      "\u001b[?25hDownloading joblib-1.3.2-py3-none-any.whl (302 kB)\n",
      "\u001b[2K   \u001b[90m━━━━━━━━━━━━━━━━━━━━━━━━━━━━━━━━━━━━━━━━\u001b[0m \u001b[32m302.2/302.2 kB\u001b[0m \u001b[31m14.5 MB/s\u001b[0m eta \u001b[36m0:00:00\u001b[0m\n",
      "\u001b[?25hBuilding wheels for collected packages: rouge-score\n",
      "  Building wheel for rouge-score (setup.py) ... \u001b[?25ldone\n",
      "\u001b[?25h  Created wheel for rouge-score: filename=rouge_score-0.1.2-py3-none-any.whl size=24932 sha256=757bb5a2abc3eeb9160de1649098797bc8d34731acb92554c6a209ee0fe452a7\n",
      "  Stored in directory: /Users/karthikravi/Library/Caches/pip/wheels/1e/19/43/8a442dc83660ca25e163e1bd1f89919284ab0d0c1475475148\n",
      "Successfully built rouge-score\n",
      "Installing collected packages: joblib, absl-py, nltk, rouge-score\n",
      "Successfully installed absl-py-2.0.0 joblib-1.3.2 nltk-3.8.1 rouge-score-0.1.2\n"
     ]
    }
   ],
   "source": [
    "!pip install rouge-score"
   ]
  },
  {
   "cell_type": "code",
   "execution_count": 7,
   "id": "47e234ce-b193-4321-b3f3-a377f7e85cf5",
   "metadata": {},
   "outputs": [],
   "source": [
    "import json\n",
    " \n",
    "# Opening JSON file\n",
    "f = open('LLM_output_just_pluse_rev_news_first_100_training.json')\n",
    " \n",
    "# returns JSON object as \n",
    "# a dictionary\n",
    "just_pluse_rev_tweet = json.load(f)\n",
    "\n",
    "# Opening JSON file\n",
    "f = open('LLM_output_just_news_first_100_training.json')\n",
    " \n",
    "# returns JSON object as \n",
    "# a dictionary\n",
    "just_BM25_tweet = json.load(f)\n",
    "\n",
    "\n",
    "f = open('train_outputs.json')\n",
    " \n",
    "# returns JSON object as \n",
    "# a dictionary\n",
    "tweet_output_train = json.load(f)"
   ]
  },
  {
   "cell_type": "code",
   "execution_count": 6,
   "id": "6fdd3c2e-405b-4ad7-b37b-9ab88aa2fc35",
   "metadata": {},
   "outputs": [
    {
     "name": "stdout",
     "output_type": "stream",
     "text": [
      "--2023-12-11 12:21:24--  https://ciir.cs.umass.edu/downloads/LaMP/LaMP_4/train/train_outputs.json\n",
      "Resolving ciir.cs.umass.edu (ciir.cs.umass.edu)... 128.119.246.154\n",
      "Connecting to ciir.cs.umass.edu (ciir.cs.umass.edu)|128.119.246.154|:443... connected.\n",
      "HTTP request sent, awaiting response... 200 OK\n",
      "Length: 1150558 (1.1M) [application/json]\n",
      "Saving to: ‘train_outputs.json’\n",
      "\n",
      "train_outputs.json  100%[===================>]   1.10M  3.08MB/s    in 0.4s    \n",
      "\n",
      "2023-12-11 12:21:25 (3.08 MB/s) - ‘train_outputs.json’ saved [1150558/1150558]\n",
      "\n"
     ]
    }
   ],
   "source": [
    "!wget https://ciir.cs.umass.edu/downloads/LaMP/LaMP_4/train/train_outputs.json"
   ]
  },
  {
   "cell_type": "code",
   "execution_count": 8,
   "id": "c2e54f3f-2e5e-41fe-af39-8b9ef8976a7a",
   "metadata": {},
   "outputs": [],
   "source": [
    "\n",
    "def remove_initial_tokens(list_of_LLM_op):\n",
    "    clean_output = []\n",
    "    for i in list_of_LLM_op:\n",
    "        clean_output.append(i.replace(\"<pad>\", \"\", 1).replace(\"</s>\", \"\",1))\n",
    "    return clean_output\n",
    "\n",
    "just_pluse_rev_tweet_clean = remove_initial_tokens(just_pluse_rev_tweet['LLM_output'])\n",
    "just_BM25_tweet_clean = remove_initial_tokens(just_BM25_tweet['LLM_output'])"
   ]
  },
  {
   "cell_type": "code",
   "execution_count": 19,
   "id": "6bcc92a5-0b7e-4b6a-bd12-72a14341e95c",
   "metadata": {},
   "outputs": [
    {
     "name": "stdout",
     "output_type": "stream",
     "text": [
      "R1_f1_score_bm25,0.12410357956475489\n",
      "RL_f1_score_bm25,0.11163753862030318\n",
      "R1_f1_score_tl,0.12859554664468656\n",
      "RL_f1_score_tl,0.11921335663191185\n",
      "R1_prec_score_tl,0.10478629050687874\n",
      "RL_prec_score_tl,0.09631176095146683\n",
      "RL_recall_score_tl,0.17396768917357153\n",
      "R1_recall_score_tl,0.18570914216502454\n",
      "RL_prec_score_bm25,0.08917048556019143\n",
      "R1_prec_score_bm25,0.10071507006065827\n",
      "RL_recall_score_bm25,0.16550737171325408\n",
      "R1_recall_score_bm25,0.18078850724438958\n"
     ]
    }
   ],
   "source": [
    "tweet_output_train_list = [i['output'] for i in tweet_output_train[\"golds\"]]\n",
    "R1_f1_score_bm25 = []\n",
    "RL_f1_score_bm25 = []\n",
    "R1_f1_score_tl = []\n",
    "RL_f1_score_tl = []\n",
    "R1_prec_score_tl = []\n",
    "RL_prec_score_tl = []\n",
    "RL_recall_score_tl = []\n",
    "R1_recall_score_tl = []\n",
    "RL_prec_score_bm25 = []\n",
    "R1_prec_score_bm25 = []\n",
    "RL_recall_score_bm25 = []\n",
    "R1_recall_score_bm25 = []\n",
    "\n",
    "for i in range(100):\n",
    "    scores = scorer.score(tweet_output_train_list[i],\n",
    "                      just_pluse_rev_tweet_clean[i])\n",
    "    R1_f1_score_tl.append(scores['rouge1'].fmeasure)\n",
    "    RL_f1_score_tl.append(scores['rougeL'].fmeasure)\n",
    "    RL_prec_score_tl.append(scores['rougeL'].precision)\n",
    "    R1_prec_score_tl.append(scores['rouge1'].precision)\n",
    "    RL_recall_score_tl.append(scores['rougeL'].recall)\n",
    "    R1_recall_score_tl.append(scores['rouge1'].recall)\n",
    "\n",
    "    scores = scorer.score(tweet_output_train_list[i],\n",
    "                      just_BM25_tweet_clean[i])\n",
    "    R1_f1_score_bm25.append(scores['rouge1'].fmeasure)\n",
    "    RL_f1_score_bm25.append(scores['rougeL'].fmeasure)\n",
    "    RL_prec_score_bm25.append(scores['rougeL'].precision)\n",
    "    R1_prec_score_bm25.append(scores['rouge1'].precision)\n",
    "    RL_recall_score_bm25.append(scores['rougeL'].recall)\n",
    "    R1_recall_score_bm25.append(scores['rouge1'].recall)\n",
    "all_values = {\"R1_f1_score_bm25\":R1_f1_score_bm25,\n",
    "                \"RL_f1_score_bm25\":RL_f1_score_bm25,\n",
    "                \"R1_f1_score_tl\":R1_f1_score_tl,\n",
    "                \"RL_f1_score_tl\":RL_f1_score_tl,\n",
    "                \"R1_prec_score_tl\":R1_prec_score_tl,\n",
    "                \"RL_prec_score_tl\":RL_prec_score_tl,\n",
    "                \"RL_recall_score_tl\":RL_recall_score_tl,\n",
    "                \"R1_recall_score_tl\":R1_recall_score_tl,\n",
    "                \"RL_prec_score_bm25\":RL_prec_score_bm25,\n",
    "                \"R1_prec_score_bm25\":R1_prec_score_bm25,\n",
    "                \"RL_recall_score_bm25\":RL_recall_score_bm25,\n",
    "                \"R1_recall_score_bm25\":R1_recall_score_bm25}\n",
    "for i in all_values:\n",
    "    print(f\"{i},{np.mean(all_values[i])}\")"
   ]
  },
  {
   "cell_type": "code",
   "execution_count": 41,
   "id": "d8c07dbe-886c-4cb0-8e0c-3a0335f62394",
   "metadata": {},
   "outputs": [
    {
     "data": {
      "image/png": "[encoded data removed]",
      "text/plain": [
       "<Figure size 640x480 with 1 Axes>"
      ]
     },
     "metadata": {},
     "output_type": "display_data"
    }
   ],
   "source": [
    "import matplotlib.pyplot as plt\n",
    "\n",
    "\n",
    "# Plotting\n",
    "plt.plot(R1_f1_score_bm25, 'bo', ms=4, label = 'BM25')  # 'bo' for blue dots, ms is marker size\n",
    "plt.plot(R1_f1_score_tl, 'rx', ms=4, label = 'TL') \n",
    "\n",
    "plt.legend()\n",
    "# Adding labels and title\n",
    "plt.xlabel('News Title')\n",
    "plt.ylabel('Rouge1 score')\n",
    "plt.title('Rouge1 F1:  bm25 vs TL')\n",
    "\n",
    "# Display the plot\n",
    "plt.show()\n",
    "\n"
   ]
  },
  {
   "cell_type": "code",
   "execution_count": 31,
   "id": "a7b3c130-aa25-4a61-a217-5d2595381ee2",
   "metadata": {},
   "outputs": [
    {
     "data": {
      "image/png": "[encoded data removed]",
      "text/plain": [
       "<Figure size 640x480 with 1 Axes>"
      ]
     },
     "metadata": {},
     "output_type": "display_data"
    }
   ],
   "source": [
    "import matplotlib.pyplot as plt\n",
    "\n",
    "plt.plot(list1, 'bo', ms=4)  # 'bo' for blue dots, ms is marker size\n",
    "plt.plot(list2, 'rx', ms=4) \n",
    "\n",
    "# Adding labels and title\n",
    "plt.xlabel('Values')\n",
    "plt.title('Dot Plot Example')\n",
    "\n",
    "# Hiding y-axis\n",
    "plt.yticks([])\n",
    "\n",
    "# Display the plot\n",
    "plt.show()"
   ]
  },
  {
   "cell_type": "code",
   "execution_count": 22,
   "id": "2a79c6d5-43e8-4fe9-bbf8-c9177d6b5c74",
   "metadata": {},
   "outputs": [
    {
     "name": "stdout",
     "output_type": "stream",
     "text": [
      "Collecting matplotlib\n",
      "  Downloading matplotlib-3.8.2-cp311-cp311-macosx_11_0_arm64.whl.metadata (5.8 kB)\n",
      "Collecting contourpy>=1.0.1 (from matplotlib)\n",
      "  Using cached contourpy-1.2.0-cp311-cp311-macosx_11_0_arm64.whl.metadata (5.8 kB)\n",
      "Collecting cycler>=0.10 (from matplotlib)\n",
      "  Using cached cycler-0.12.1-py3-none-any.whl.metadata (3.8 kB)\n",
      "Collecting fonttools>=4.22.0 (from matplotlib)\n",
      "  Downloading fonttools-4.46.0-cp311-cp311-macosx_10_9_universal2.whl.metadata (156 kB)\n",
      "\u001b[2K     \u001b[90m━━━━━━━━━━━━━━━━━━━━━━━━━━━━━━━━━━━━━━━\u001b[0m \u001b[32m156.2/156.2 kB\u001b[0m \u001b[31m1.2 MB/s\u001b[0m eta \u001b[36m0:00:00\u001b[0ma \u001b[36m0:00:01\u001b[0m\n",
      "\u001b[?25hCollecting kiwisolver>=1.3.1 (from matplotlib)\n",
      "  Using cached kiwisolver-1.4.5-cp311-cp311-macosx_11_0_arm64.whl.metadata (6.4 kB)\n",
      "Requirement already satisfied: numpy<2,>=1.21 in /Users/karthikravi/anaconda3/envs/ir_project/lib/python3.11/site-packages (from matplotlib) (1.26.2)\n",
      "Requirement already satisfied: packaging>=20.0 in /Users/karthikravi/anaconda3/envs/ir_project/lib/python3.11/site-packages (from matplotlib) (23.2)\n",
      "Requirement already satisfied: pillow>=8 in /Users/karthikravi/anaconda3/envs/ir_project/lib/python3.11/site-packages (from matplotlib) (10.0.1)\n",
      "Collecting pyparsing>=2.3.1 (from matplotlib)\n",
      "  Using cached pyparsing-3.1.1-py3-none-any.whl.metadata (5.1 kB)\n",
      "Requirement already satisfied: python-dateutil>=2.7 in /Users/karthikravi/anaconda3/envs/ir_project/lib/python3.11/site-packages (from matplotlib) (2.8.2)\n",
      "Requirement already satisfied: six>=1.5 in /Users/karthikravi/anaconda3/envs/ir_project/lib/python3.11/site-packages (from python-dateutil>=2.7->matplotlib) (1.16.0)\n",
      "Downloading matplotlib-3.8.2-cp311-cp311-macosx_11_0_arm64.whl (7.5 MB)\n",
      "\u001b[2K   \u001b[90m━━━━━━━━━━━━━━━━━━━━━━━━━━━━━━━━━━━━━━━━\u001b[0m \u001b[32m7.5/7.5 MB\u001b[0m \u001b[31m2.0 MB/s\u001b[0m eta \u001b[36m0:00:00\u001b[0m00:01\u001b[0m00:01\u001b[0m0m\n",
      "\u001b[?25hUsing cached contourpy-1.2.0-cp311-cp311-macosx_11_0_arm64.whl (243 kB)\n",
      "Using cached cycler-0.12.1-py3-none-any.whl (8.3 kB)\n",
      "Downloading fonttools-4.46.0-cp311-cp311-macosx_10_9_universal2.whl (2.8 MB)\n",
      "\u001b[2K   \u001b[90m━━━━━━━━━━━━━━━━━━━━━━━━━━━━━━━━━━━━━━━━\u001b[0m \u001b[32m2.8/2.8 MB\u001b[0m \u001b[31m2.8 MB/s\u001b[0m eta \u001b[36m0:00:00\u001b[0ma \u001b[36m0:00:01\u001b[0m\n",
      "\u001b[?25hUsing cached kiwisolver-1.4.5-cp311-cp311-macosx_11_0_arm64.whl (66 kB)\n",
      "Using cached pyparsing-3.1.1-py3-none-any.whl (103 kB)\n",
      "Installing collected packages: pyparsing, kiwisolver, fonttools, cycler, contourpy, matplotlib\n",
      "Successfully installed contourpy-1.2.0 cycler-0.12.1 fonttools-4.46.0 kiwisolver-1.4.5 matplotlib-3.8.2 pyparsing-3.1.1\n"
     ]
    }
   ],
   "source": [
    "!pip install matplotlib"
   ]
  }
 ],
 "metadata": {
  "kernelspec": {
   "display_name": "Python 3 (ipykernel)",
   "language": "python",
   "name": "python3"
  },
  "language_info": {
   "codemirror_mode": {
    "name": "ipython",
    "version": 3
   },
   "file_extension": ".py",
   "mimetype": "text/x-python",
   "name": "python",
   "nbconvert_exporter": "python",
   "pygments_lexer": "ipython3",
   "version": "3.11.5"
  }
 },
 "nbformat": 4,
 "nbformat_minor": 5
}
